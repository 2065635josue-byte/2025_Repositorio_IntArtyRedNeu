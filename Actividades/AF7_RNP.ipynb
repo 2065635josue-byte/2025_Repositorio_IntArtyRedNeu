{
  "nbformat": 4,
  "nbformat_minor": 0,
  "metadata": {
    "colab": {
      "provenance": [],
      "authorship_tag": "ABX9TyPLjFeYKFNA78KZ9ghggIlt",
      "include_colab_link": true
    },
    "kernelspec": {
      "name": "python3",
      "display_name": "Python 3"
    },
    "language_info": {
      "name": "python"
    }
  },
  "cells": [
    {
      "cell_type": "markdown",
      "metadata": {
        "id": "view-in-github",
        "colab_type": "text"
      },
      "source": [
        "<a href=\"https://colab.research.google.com/github/2065635josue-byte/2025_Repositorio_IntArtyRedNeu/blob/main/Actividades/AF7_RNP.ipynb\" target=\"_parent\"><img src=\"https://colab.research.google.com/assets/colab-badge.svg\" alt=\"Open In Colab\"/></a>"
      ]
    },
    {
      "cell_type": "markdown",
      "source": [
        "# AF7: Redes Neuronales Artificiales  \n",
        "\n",
        "Autores:\n",
        "*   Josué Isaac López Salazar 2065635 IMTC N4-N6\n",
        "*   Humberto Alejandro Carreón Corpus 2042901 IMTC N4-N6\n",
        "*   Francisco Gutiérrez Zúñiga 1910331 IMTC N4-N6\n",
        "*   Johann Jonás Andrade Esteban 2109318 IMTC N4-N6"
      ],
      "metadata": {
        "id": "3GfZPKTRz9kC"
      }
    },
    {
      "cell_type": "markdown",
      "source": [
        "# PASO 1: Cargar Librerías"
      ],
      "metadata": {
        "id": "wVghkJCF0lXi"
      }
    },
    {
      "cell_type": "markdown",
      "source": [
        "Carga de Librerías (Tensorflow, tf.keras, numpy y matplotlib)"
      ],
      "metadata": {
        "id": "JUbo2XW8-5nb"
      }
    },
    {
      "cell_type": "code",
      "execution_count": 271,
      "metadata": {
        "colab": {
          "base_uri": "https://localhost:8080/"
        },
        "id": "OIbBTflf-qp5",
        "outputId": "cb1d0f76-f136-4364-d250-7f767ce882be"
      },
      "outputs": [
        {
          "output_type": "stream",
          "name": "stdout",
          "text": [
            "2.19.0\n"
          ]
        }
      ],
      "source": [
        "# TensorFlow and tf.keras\n",
        "import tensorflow as tf\n",
        "\n",
        "# Helper libraries\n",
        "import numpy as np\n",
        "import matplotlib.pyplot as plt\n",
        "\n",
        "print(tf.__version__)"
      ]
    },
    {
      "cell_type": "markdown",
      "source": [
        "# Paso 2: Cargar datos\n",
        "\n"
      ],
      "metadata": {
        "id": "xDLv83oFAAzz"
      }
    },
    {
      "cell_type": "code",
      "source": [
        "mnist_data = tf.keras.datasets.mnist.load_data(path=\"mnist.npz\")"
      ],
      "metadata": {
        "id": "mulQEdFX__4Z"
      },
      "execution_count": 272,
      "outputs": []
    },
    {
      "cell_type": "markdown",
      "source": [
        "Obtención de datos de entrenamiento y de prueba"
      ],
      "metadata": {
        "id": "nqvhl2ul41eq"
      }
    },
    {
      "cell_type": "code",
      "source": [
        "(x_train, y_train), (x_test, y_test) = mnist_data"
      ],
      "metadata": {
        "id": "qnZCtAJPCDSS"
      },
      "execution_count": 273,
      "outputs": []
    },
    {
      "cell_type": "markdown",
      "source": [
        "Dimensión o forma del conjunto de datos de las imagenes de entrenamiento (x_train)."
      ],
      "metadata": {
        "id": "4LjSn-u906CD"
      }
    },
    {
      "cell_type": "code",
      "source": [
        "x_train.shape"
      ],
      "metadata": {
        "colab": {
          "base_uri": "https://localhost:8080/"
        },
        "id": "NWQVVIA_Fkaa",
        "outputId": "63ec5d2d-4cd1-4188-e3e4-f8df21d2c3d9"
      },
      "execution_count": 274,
      "outputs": [
        {
          "output_type": "execute_result",
          "data": {
            "text/plain": [
              "(60000, 28, 28)"
            ]
          },
          "metadata": {},
          "execution_count": 274
        }
      ]
    },
    {
      "cell_type": "markdown",
      "source": [
        "Dimension o forma de las etiquetas de entrenamiento (y_train)."
      ],
      "metadata": {
        "id": "zUIY9mSA1Dkj"
      }
    },
    {
      "cell_type": "code",
      "source": [
        "y_train.shape"
      ],
      "metadata": {
        "colab": {
          "base_uri": "https://localhost:8080/"
        },
        "id": "PAHkQi0JFzEy",
        "outputId": "45edc0f7-7b9f-43b2-8f72-609a6390904b"
      },
      "execution_count": 275,
      "outputs": [
        {
          "output_type": "execute_result",
          "data": {
            "text/plain": [
              "(60000,)"
            ]
          },
          "metadata": {},
          "execution_count": 275
        }
      ]
    },
    {
      "cell_type": "markdown",
      "source": [
        "Dimensión o forma del conjunto de datos de las imagenes de prueba (x_test)."
      ],
      "metadata": {
        "id": "SJmaL5Uh1Vlz"
      }
    },
    {
      "cell_type": "code",
      "source": [
        "x_test.shape"
      ],
      "metadata": {
        "colab": {
          "base_uri": "https://localhost:8080/"
        },
        "id": "H4jKPD5mIQDB",
        "outputId": "f6293319-916a-44d8-e187-d335f139c5d9"
      },
      "execution_count": 276,
      "outputs": [
        {
          "output_type": "execute_result",
          "data": {
            "text/plain": [
              "(10000, 28, 28)"
            ]
          },
          "metadata": {},
          "execution_count": 276
        }
      ]
    },
    {
      "cell_type": "markdown",
      "source": [
        "Dimension o forma de las etiquetas de prueba (y_test)."
      ],
      "metadata": {
        "id": "VEsrL0dO1eJK"
      }
    },
    {
      "cell_type": "code",
      "source": [
        "y_test.shape"
      ],
      "metadata": {
        "colab": {
          "base_uri": "https://localhost:8080/"
        },
        "id": "G9llybUDIPzK",
        "outputId": "add77f4c-735e-4e72-df50-6c6930747022"
      },
      "execution_count": 277,
      "outputs": [
        {
          "output_type": "execute_result",
          "data": {
            "text/plain": [
              "(10000,)"
            ]
          },
          "metadata": {},
          "execution_count": 277
        }
      ]
    },
    {
      "cell_type": "markdown",
      "source": [
        "Determinación de la cantidad de imágenes en nuestro conjunto de datos de entrenamiento."
      ],
      "metadata": {
        "id": "F0z4k4D71ttj"
      }
    },
    {
      "cell_type": "code",
      "source": [
        "len(x_train)"
      ],
      "metadata": {
        "colab": {
          "base_uri": "https://localhost:8080/"
        },
        "id": "Y4Hkk893KmBC",
        "outputId": "a9282acd-f9f1-4eaa-a6a9-e07f9f79d9a2"
      },
      "execution_count": 278,
      "outputs": [
        {
          "output_type": "execute_result",
          "data": {
            "text/plain": [
              "60000"
            ]
          },
          "metadata": {},
          "execution_count": 278
        }
      ]
    },
    {
      "cell_type": "markdown",
      "source": [
        "Determinación de la cantidad de etiquetas en nuestro conjunto de datos de entrenamiento."
      ],
      "metadata": {
        "id": "6MiRQtqg16JK"
      }
    },
    {
      "cell_type": "code",
      "source": [
        "len(y_train)"
      ],
      "metadata": {
        "colab": {
          "base_uri": "https://localhost:8080/"
        },
        "id": "8tBoXRReKlzy",
        "outputId": "e087497e-0163-4e09-ee28-5e8802fd6934"
      },
      "execution_count": 279,
      "outputs": [
        {
          "output_type": "execute_result",
          "data": {
            "text/plain": [
              "60000"
            ]
          },
          "metadata": {},
          "execution_count": 279
        }
      ]
    },
    {
      "cell_type": "markdown",
      "source": [
        "Determinación de la cantidad de imágenes en nuestro conjunto de datos de prueba."
      ],
      "metadata": {
        "id": "Uvfnk8tS138L"
      }
    },
    {
      "cell_type": "code",
      "source": [
        "len(x_test)"
      ],
      "metadata": {
        "colab": {
          "base_uri": "https://localhost:8080/"
        },
        "id": "WjGwGCXMKlsi",
        "outputId": "2ea93d06-a1a1-47a3-bd65-52b852260a20"
      },
      "execution_count": 280,
      "outputs": [
        {
          "output_type": "execute_result",
          "data": {
            "text/plain": [
              "10000"
            ]
          },
          "metadata": {},
          "execution_count": 280
        }
      ]
    },
    {
      "cell_type": "markdown",
      "source": [
        "Determinación de la cantidad de etiquetas en nuestro conjunto de datos de prueba."
      ],
      "metadata": {
        "id": "AwAHeB_-18Ua"
      }
    },
    {
      "cell_type": "code",
      "source": [
        "len(y_test)"
      ],
      "metadata": {
        "colab": {
          "base_uri": "https://localhost:8080/"
        },
        "id": "gp-4YNQBKlji",
        "outputId": "2203a41b-38ba-4d4e-cd5b-d6591c4e94d5"
      },
      "execution_count": 281,
      "outputs": [
        {
          "output_type": "execute_result",
          "data": {
            "text/plain": [
              "10000"
            ]
          },
          "metadata": {},
          "execution_count": 281
        }
      ]
    },
    {
      "cell_type": "markdown",
      "source": [
        "# Paso 3: Preprocesamiento de Datos"
      ],
      "metadata": {
        "id": "2HpA0xMDLzPZ"
      }
    },
    {
      "cell_type": "markdown",
      "source": [
        "Inspección de la primera imagen en el conjunto de entrenamiento. Se observa que el rango de los valores es de 0 a 255."
      ],
      "metadata": {
        "id": "z9tLiAxx2MWT"
      }
    },
    {
      "cell_type": "code",
      "source": [
        "plt.figure()\n",
        "plt.imshow(x_train[0])\n",
        "plt.colorbar()\n",
        "plt.grid(False)\n",
        "plt.show()"
      ],
      "metadata": {
        "colab": {
          "base_uri": "https://localhost:8080/",
          "height": 430
        },
        "id": "kW604w3FQUM6",
        "outputId": "7b8efbb5-52e5-4c87-f404-7277ad2ef7bd"
      },
      "execution_count": 282,
      "outputs": [
        {
          "output_type": "display_data",
          "data": {
            "text/plain": [
              "<Figure size 640x480 with 2 Axes>"
            ],
            "image/png": "[encoded data removed]"
          },
          "metadata": {}
        }
      ]
    },
    {
      "cell_type": "markdown",
      "source": [
        "Inspección de la primera imagen en el conjunto de entrenamiento en escala de grises."
      ],
      "metadata": {
        "id": "_3bxL-lX2deC"
      }
    },
    {
      "cell_type": "code",
      "source": [
        "plt.figure()\n",
        "plt.imshow(x_train[0], cmap='gray_r')\n",
        "plt.colorbar()\n",
        "plt.grid(False)\n",
        "plt.show()"
      ],
      "metadata": {
        "colab": {
          "base_uri": "https://localhost:8080/",
          "height": 430
        },
        "id": "DaZrjtf4Qenw",
        "outputId": "35253b6a-ad92-4b1e-b66e-699a13877b80"
      },
      "execution_count": 283,
      "outputs": [
        {
          "output_type": "display_data",
          "data": {
            "text/plain": [
              "<Figure size 640x480 with 2 Axes>"
            ],
            "image/png": "[encoded data removed]"
          },
          "metadata": {}
        }
      ]
    },
    {
      "cell_type": "markdown",
      "source": [
        "Escalación de los datos.\n",
        "Como el rango es de 0 a 255, se divide entre 255 para escalar los datos a rangos de 0 a 1."
      ],
      "metadata": {
        "id": "jwNYicuh2p7y"
      }
    },
    {
      "cell_type": "code",
      "source": [
        "x_train = x_train / 255.0\n",
        "\n",
        "x_test = x_test / 255.0"
      ],
      "metadata": {
        "id": "oahMTTdMRZGp"
      },
      "execution_count": 284,
      "outputs": []
    },
    {
      "cell_type": "markdown",
      "source": [
        "Imagen de las primeras 25 imágenes del conjunto de entrenamiento (x_train) con el nombre de la clase o etiqueta debajo de cada imagen (y_train)."
      ],
      "metadata": {
        "id": "JXQihqmV3RGi"
      }
    },
    {
      "cell_type": "code",
      "source": [
        "plt.figure(figsize=(10,10))\n",
        "for i in range(25):\n",
        "    plt.subplot(5,5,i+1)\n",
        "    plt.xticks([])\n",
        "    plt.yticks([])\n",
        "    plt.grid(False)\n",
        "    plt.imshow(x_train[i], cmap=plt.cm.binary)\n",
        "    plt.xlabel(y_train[i])\n",
        "plt.show()"
      ],
      "metadata": {
        "colab": {
          "base_uri": "https://localhost:8080/",
          "height": 826
        },
        "id": "jTFd-i-tUsdR",
        "outputId": "3dc9170b-f4ee-4a14-e9b3-a73b83ab86ee"
      },
      "execution_count": 285,
      "outputs": [
        {
          "output_type": "display_data",
          "data": {
            "text/plain": [
              "<Figure size 1000x1000 with 25 Axes>"
            ],
            "image/png": "[encoded data removed]"
          },
          "metadata": {}
        }
      ]
    },
    {
      "cell_type": "markdown",
      "source": [
        "# Paso 4: Selección del modelo y entrenamiento"
      ],
      "metadata": {
        "id": "YH-HeD24VgsR"
      }
    },
    {
      "cell_type": "markdown",
      "source": [
        "Se selecciona el modelo y se generan las capas.\n",
        "Capa 1 es capa de entrada.\n",
        "Capa 2 es la de entrenamiento con activación softmax.\n",
        "Capa 3 es capa de salida."
      ],
      "metadata": {
        "id": "rz8SZ8573mha"
      }
    },
    {
      "cell_type": "code",
      "source": [
        "model = tf.keras.Sequential([\n",
        "    tf.keras.layers.Flatten(input_shape=(28, 28)),\n",
        "    tf.keras.layers.Dense(128, activation='softmax'),\n",
        "    tf.keras.layers.Dense(10)\n",
        "])"
      ],
      "metadata": {
        "colab": {
          "base_uri": "https://localhost:8080/"
        },
        "id": "AK81J2M7VjMI",
        "outputId": "2940a3eb-63d9-499a-f7de-31730b993bf0"
      },
      "execution_count": 286,
      "outputs": [
        {
          "output_type": "stream",
          "name": "stderr",
          "text": [
            "/usr/local/lib/python3.12/dist-packages/keras/src/layers/reshaping/flatten.py:37: UserWarning: Do not pass an `input_shape`/`input_dim` argument to a layer. When using Sequential models, prefer using an `Input(shape)` object as the first layer in the model instead.\n",
            "  super().__init__(**kwargs)\n"
          ]
        }
      ]
    },
    {
      "cell_type": "markdown",
      "source": [
        "Compilación del modelo y selección del optimizador \"adam\". La métrica a utilizar será \"accuracy\" (exactitud)."
      ],
      "metadata": {
        "id": "gdFJqnw-4DP6"
      }
    },
    {
      "cell_type": "code",
      "source": [
        "model.compile(optimizer='adam',\n",
        "              loss=tf.keras.losses.SparseCategoricalCrossentropy(from_logits=True),\n",
        "              metrics=['accuracy'])"
      ],
      "metadata": {
        "id": "V404Z8YAVr8Y"
      },
      "execution_count": 287,
      "outputs": []
    },
    {
      "cell_type": "markdown",
      "source": [
        "Carga del modelo e inicio del entrenamiento por medio de \"fit\"."
      ],
      "metadata": {
        "id": "L_piMVP54dkZ"
      }
    },
    {
      "cell_type": "code",
      "source": [
        "model.fit(x_train, y_train, epochs=10)"
      ],
      "metadata": {
        "colab": {
          "base_uri": "https://localhost:8080/"
        },
        "id": "gVnUBgwHXD14",
        "outputId": "b77329c3-2c52-4d18-cc8b-b9847ff825de"
      },
      "execution_count": 288,
      "outputs": [
        {
          "output_type": "stream",
          "name": "stdout",
          "text": [
            "Epoch 1/10\n",
            "\u001b[1m1875/1875\u001b[0m \u001b[32m━━━━━━━━━━━━━━━━━━━━\u001b[0m\u001b[37m\u001b[0m \u001b[1m7s\u001b[0m 3ms/step - accuracy: 0.5894 - loss: 1.7149\n",
            "Epoch 2/10\n",
            "\u001b[1m1875/1875\u001b[0m \u001b[32m━━━━━━━━━━━━━━━━━━━━\u001b[0m\u001b[37m\u001b[0m \u001b[1m7s\u001b[0m 4ms/step - accuracy: 0.6068 - loss: 0.9269\n",
            "Epoch 3/10\n",
            "\u001b[1m1875/1875\u001b[0m \u001b[32m━━━━━━━━━━━━━━━━━━━━\u001b[0m\u001b[37m\u001b[0m \u001b[1m6s\u001b[0m 3ms/step - accuracy: 0.6315 - loss: 0.8205\n",
            "Epoch 4/10\n",
            "\u001b[1m1875/1875\u001b[0m \u001b[32m━━━━━━━━━━━━━━━━━━━━\u001b[0m\u001b[37m\u001b[0m \u001b[1m7s\u001b[0m 4ms/step - accuracy: 0.7331 - loss: 0.7077\n",
            "Epoch 5/10\n",
            "\u001b[1m1875/1875\u001b[0m \u001b[32m━━━━━━━━━━━━━━━━━━━━\u001b[0m\u001b[37m\u001b[0m \u001b[1m9s\u001b[0m 3ms/step - accuracy: 0.8286 - loss: 0.5061\n",
            "Epoch 6/10\n",
            "\u001b[1m1875/1875\u001b[0m \u001b[32m━━━━━━━━━━━━━━━━━━━━\u001b[0m\u001b[37m\u001b[0m \u001b[1m7s\u001b[0m 4ms/step - accuracy: 0.8402 - loss: 0.4519\n",
            "Epoch 7/10\n",
            "\u001b[1m1875/1875\u001b[0m \u001b[32m━━━━━━━━━━━━━━━━━━━━\u001b[0m\u001b[37m\u001b[0m \u001b[1m6s\u001b[0m 3ms/step - accuracy: 0.8520 - loss: 0.4188\n",
            "Epoch 8/10\n",
            "\u001b[1m1875/1875\u001b[0m \u001b[32m━━━━━━━━━━━━━━━━━━━━\u001b[0m\u001b[37m\u001b[0m \u001b[1m7s\u001b[0m 4ms/step - accuracy: 0.8621 - loss: 0.4021\n",
            "Epoch 9/10\n",
            "\u001b[1m1875/1875\u001b[0m \u001b[32m━━━━━━━━━━━━━━━━━━━━\u001b[0m\u001b[37m\u001b[0m \u001b[1m6s\u001b[0m 3ms/step - accuracy: 0.8797 - loss: 0.3812\n",
            "Epoch 10/10\n",
            "\u001b[1m1875/1875\u001b[0m \u001b[32m━━━━━━━━━━━━━━━━━━━━\u001b[0m\u001b[37m\u001b[0m \u001b[1m7s\u001b[0m 4ms/step - accuracy: 0.8983 - loss: 0.3548\n"
          ]
        },
        {
          "output_type": "execute_result",
          "data": {
            "text/plain": [
              "<keras.src.callbacks.history.History at 0x78ef980c3020>"
            ]
          },
          "metadata": {},
          "execution_count": 288
        }
      ]
    },
    {
      "cell_type": "markdown",
      "source": [
        "Evaluación de la precisión del modelo."
      ],
      "metadata": {
        "id": "MAjNSU-f5A-y"
      }
    },
    {
      "cell_type": "code",
      "source": [
        "test_loss, test_acc = model.evaluate(x_test,  y_test, verbose=2)\n",
        "\n",
        "print('\\nTest accuracy:', test_acc)"
      ],
      "metadata": {
        "colab": {
          "base_uri": "https://localhost:8080/"
        },
        "id": "L-1XJKKdXk1p",
        "outputId": "a4d5a61f-0af5-4719-99f3-5202f10cfc3a"
      },
      "execution_count": 289,
      "outputs": [
        {
          "output_type": "stream",
          "name": "stdout",
          "text": [
            "313/313 - 1s - 2ms/step - accuracy: 0.8993 - loss: 0.3650\n",
            "\n",
            "Test accuracy: 0.8992999792098999\n"
          ]
        }
      ]
    },
    {
      "cell_type": "markdown",
      "source": [
        "# Paso 5: Prueba del modelo"
      ],
      "metadata": {
        "id": "2ZsidGXB5FHa"
      }
    },
    {
      "cell_type": "markdown",
      "source": [
        "Generación de predicciones."
      ],
      "metadata": {
        "id": "aKa-jET05qWa"
      }
    },
    {
      "cell_type": "code",
      "source": [
        "probability_model = tf.keras.Sequential([model,\n",
        "                                         tf.keras.layers.Softmax()])"
      ],
      "metadata": {
        "id": "Ulo9RYHLX5Uf"
      },
      "execution_count": 290,
      "outputs": []
    },
    {
      "cell_type": "markdown",
      "source": [
        "Se realiza una prediccion de cada imagen del conjunto de prueba."
      ],
      "metadata": {
        "id": "sxdIJ8dI7Q_p"
      }
    },
    {
      "cell_type": "code",
      "source": [
        "predictions = probability_model.predict(x_test)"
      ],
      "metadata": {
        "colab": {
          "base_uri": "https://localhost:8080/"
        },
        "id": "1eXyC2taYMuY",
        "outputId": "1d772c72-76aa-4ecf-8c85-8e11f89443a4"
      },
      "execution_count": 291,
      "outputs": [
        {
          "output_type": "stream",
          "name": "stdout",
          "text": [
            "\u001b[1m313/313\u001b[0m \u001b[32m━━━━━━━━━━━━━━━━━━━━\u001b[0m\u001b[37m\u001b[0m \u001b[1m0s\u001b[0m 1ms/step\n"
          ]
        }
      ]
    },
    {
      "cell_type": "markdown",
      "source": [
        "Se observa la predicción de la primera imagen."
      ],
      "metadata": {
        "id": "ckitsN3I7Zxq"
      }
    },
    {
      "cell_type": "code",
      "source": [
        "predictions[0]"
      ],
      "metadata": {
        "colab": {
          "base_uri": "https://localhost:8080/"
        },
        "id": "W1qm1a_KYV5o",
        "outputId": "3576ac84-1aa9-4092-801f-772665e88314"
      },
      "execution_count": 292,
      "outputs": [
        {
          "output_type": "execute_result",
          "data": {
            "text/plain": [
              "array([8.6256208e-05, 2.6591952e-04, 8.1895501e-04, 4.5946203e-03,\n",
              "       1.7618446e-06, 1.5110885e-04, 5.4482080e-06, 9.4130898e-01,\n",
              "       1.2876428e-04, 5.2638214e-02], dtype=float32)"
            ]
          },
          "metadata": {},
          "execution_count": 292
        }
      ]
    },
    {
      "cell_type": "markdown",
      "source": [
        "Se observa qué etiqueta tiene el valor de confianza más alto en la primera imagen:"
      ],
      "metadata": {
        "id": "bbIezP-97jpL"
      }
    },
    {
      "cell_type": "code",
      "source": [
        "np.argmax(predictions[0])"
      ],
      "metadata": {
        "colab": {
          "base_uri": "https://localhost:8080/"
        },
        "id": "OTFHEugxqxE-",
        "outputId": "60d8daaf-8ea2-4dbb-fc80-3d9d5c79e6de"
      },
      "execution_count": 293,
      "outputs": [
        {
          "output_type": "execute_result",
          "data": {
            "text/plain": [
              "np.int64(7)"
            ]
          },
          "metadata": {},
          "execution_count": 293
        }
      ]
    },
    {
      "cell_type": "markdown",
      "source": [
        "Se observa la predicción de la segunda imagen."
      ],
      "metadata": {
        "id": "alHlYncV7w-y"
      }
    },
    {
      "cell_type": "code",
      "source": [
        "predictions[1]"
      ],
      "metadata": {
        "colab": {
          "base_uri": "https://localhost:8080/"
        },
        "id": "slNz8xgHqzHU",
        "outputId": "7e2eb82f-d254-4e68-b026-ab9724e72a49"
      },
      "execution_count": 294,
      "outputs": [
        {
          "output_type": "execute_result",
          "data": {
            "text/plain": [
              "array([4.2145295e-04, 9.9064922e-04, 9.8388261e-01, 4.7463793e-03,\n",
              "       8.1764121e-04, 9.4134337e-04, 3.3978960e-03, 2.1317448e-03,\n",
              "       2.6489794e-03, 2.1221735e-05], dtype=float32)"
            ]
          },
          "metadata": {},
          "execution_count": 294
        }
      ]
    },
    {
      "cell_type": "markdown",
      "source": [
        "Se observa qué etiqueta tiene el valor de confianza más alto en la segunda imagen:"
      ],
      "metadata": {
        "id": "s3hsOrfN7_tq"
      }
    },
    {
      "cell_type": "code",
      "source": [
        "np.argmax(predictions[1])"
      ],
      "metadata": {
        "colab": {
          "base_uri": "https://localhost:8080/"
        },
        "id": "dSAU_jlpq31r",
        "outputId": "7919a8c4-da7d-4548-b3bf-90a3e620b8b9"
      },
      "execution_count": 295,
      "outputs": [
        {
          "output_type": "execute_result",
          "data": {
            "text/plain": [
              "np.int64(2)"
            ]
          },
          "metadata": {},
          "execution_count": 295
        }
      ]
    },
    {
      "cell_type": "markdown",
      "source": [
        "Se observa la predicción de la tercera imagen."
      ],
      "metadata": {
        "id": "0HN_K8dO7ziS"
      }
    },
    {
      "cell_type": "code",
      "source": [
        "predictions[2]"
      ],
      "metadata": {
        "colab": {
          "base_uri": "https://localhost:8080/"
        },
        "id": "Mz3MViySq5sL",
        "outputId": "feee7e80-8c59-48f6-9ba3-be342b2ca956"
      },
      "execution_count": 296,
      "outputs": [
        {
          "output_type": "execute_result",
          "data": {
            "text/plain": [
              "array([1.2214687e-04, 9.8631674e-01, 6.7560823e-04, 1.7006355e-04,\n",
              "       1.0457091e-03, 6.8003946e-04, 6.8090518e-04, 1.7130414e-03,\n",
              "       8.0081364e-03, 5.8757560e-04], dtype=float32)"
            ]
          },
          "metadata": {},
          "execution_count": 296
        }
      ]
    },
    {
      "cell_type": "markdown",
      "source": [
        "Se observa qué etiqueta tiene el valor de confianza más alto en la tercera imagen:"
      ],
      "metadata": {
        "id": "VlpwwmT18IBi"
      }
    },
    {
      "cell_type": "code",
      "source": [
        "np.argmax(predictions[2])"
      ],
      "metadata": {
        "colab": {
          "base_uri": "https://localhost:8080/"
        },
        "id": "wkbtE6b5q5-r",
        "outputId": "d5c8dda9-3dfe-4658-a590-3e6e7e0d6c13"
      },
      "execution_count": 297,
      "outputs": [
        {
          "output_type": "execute_result",
          "data": {
            "text/plain": [
              "np.int64(1)"
            ]
          },
          "metadata": {},
          "execution_count": 297
        }
      ]
    },
    {
      "cell_type": "markdown",
      "source": [
        "Se observa la predicción de la cuarta imagen."
      ],
      "metadata": {
        "id": "o6g3XXif712q"
      }
    },
    {
      "cell_type": "code",
      "source": [
        "predictions[3]"
      ],
      "metadata": {
        "colab": {
          "base_uri": "https://localhost:8080/"
        },
        "id": "OYdN33geq6qc",
        "outputId": "3eec4c99-eccb-442d-f709-0116613c1abe"
      },
      "execution_count": 298,
      "outputs": [
        {
          "output_type": "execute_result",
          "data": {
            "text/plain": [
              "array([9.8654789e-01, 2.5240358e-04, 2.4119697e-03, 1.0218563e-03,\n",
              "       9.0157863e-04, 2.4140822e-03, 1.9560230e-03, 8.1863109e-04,\n",
              "       1.8348773e-03, 1.8406416e-03], dtype=float32)"
            ]
          },
          "metadata": {},
          "execution_count": 298
        }
      ]
    },
    {
      "cell_type": "markdown",
      "source": [
        "Se observa qué etiqueta tiene el valor de confianza más alto en la cuarta imagen:"
      ],
      "metadata": {
        "id": "WXLrYlLh8J5C"
      }
    },
    {
      "cell_type": "code",
      "source": [
        "np.argmax(predictions[3])"
      ],
      "metadata": {
        "colab": {
          "base_uri": "https://localhost:8080/"
        },
        "id": "86Chm3JYss-k",
        "outputId": "5c2f0427-e032-448b-f145-a304a195d960"
      },
      "execution_count": 299,
      "outputs": [
        {
          "output_type": "execute_result",
          "data": {
            "text/plain": [
              "np.int64(0)"
            ]
          },
          "metadata": {},
          "execution_count": 299
        }
      ]
    },
    {
      "cell_type": "markdown",
      "source": [
        "Se observa la predicción de la quinta imagen."
      ],
      "metadata": {
        "id": "A2u1fLDn76fK"
      }
    },
    {
      "cell_type": "code",
      "source": [
        "predictions[4]"
      ],
      "metadata": {
        "colab": {
          "base_uri": "https://localhost:8080/"
        },
        "id": "0e3f8mQUq6cc",
        "outputId": "e6d7b0ee-f908-4da3-d43d-ad17d3dcb499"
      },
      "execution_count": 300,
      "outputs": [
        {
          "output_type": "execute_result",
          "data": {
            "text/plain": [
              "array([1.2439102e-03, 7.2822347e-04, 2.5874702e-03, 8.3058134e-05,\n",
              "       8.8626486e-01, 5.0345343e-03, 1.6254899e-03, 8.3885103e-04,\n",
              "       5.4518204e-02, 4.7075458e-02], dtype=float32)"
            ]
          },
          "metadata": {},
          "execution_count": 300
        }
      ]
    },
    {
      "cell_type": "markdown",
      "source": [
        "Se observa qué etiqueta tiene el valor de confianza más alto en la quinta imagen:"
      ],
      "metadata": {
        "id": "6MMys_KA8L_K"
      }
    },
    {
      "cell_type": "code",
      "source": [
        "np.argmax(predictions[4])"
      ],
      "metadata": {
        "colab": {
          "base_uri": "https://localhost:8080/"
        },
        "id": "8kT7AlHTq6lM",
        "outputId": "6b1c6e5e-3aaf-461b-ebd6-ff410bb18e9f"
      },
      "execution_count": 301,
      "outputs": [
        {
          "output_type": "execute_result",
          "data": {
            "text/plain": [
              "np.int64(4)"
            ]
          },
          "metadata": {},
          "execution_count": 301
        }
      ]
    },
    {
      "cell_type": "markdown",
      "source": [
        "Se observa la etiqueta de la primera imagen:"
      ],
      "metadata": {
        "id": "RVB3Ehyy8RBr"
      }
    },
    {
      "cell_type": "code",
      "source": [
        "print(y_test[0])"
      ],
      "metadata": {
        "colab": {
          "base_uri": "https://localhost:8080/"
        },
        "id": "EKLJxaRpq6Us",
        "outputId": "f19cfcdf-7a5e-4779-dd3d-d629aba84c2c"
      },
      "execution_count": 302,
      "outputs": [
        {
          "output_type": "stream",
          "name": "stdout",
          "text": [
            "7\n"
          ]
        }
      ]
    },
    {
      "cell_type": "markdown",
      "source": [
        "Se observa la etiqueta de la segunda imagen:"
      ],
      "metadata": {
        "id": "BONX3Xlk8U1K"
      }
    },
    {
      "cell_type": "code",
      "source": [
        "print(y_test[1])"
      ],
      "metadata": {
        "colab": {
          "base_uri": "https://localhost:8080/"
        },
        "id": "3VA30x-vsF7U",
        "outputId": "1f1ae9ac-94f3-4f2e-cda5-df1c3cbbeb51"
      },
      "execution_count": 303,
      "outputs": [
        {
          "output_type": "stream",
          "name": "stdout",
          "text": [
            "2\n"
          ]
        }
      ]
    },
    {
      "cell_type": "markdown",
      "source": [
        "Se observa la etiqueta de la tercera imagen:"
      ],
      "metadata": {
        "id": "oZVCDmCo8WWq"
      }
    },
    {
      "cell_type": "code",
      "source": [
        "print(y_test[2])"
      ],
      "metadata": {
        "colab": {
          "base_uri": "https://localhost:8080/"
        },
        "id": "uB7C_r2msF00",
        "outputId": "95374ade-65ea-43ce-fabf-8f2db68c0d50"
      },
      "execution_count": 304,
      "outputs": [
        {
          "output_type": "stream",
          "name": "stdout",
          "text": [
            "1\n"
          ]
        }
      ]
    },
    {
      "cell_type": "markdown",
      "source": [
        "Se observa la etiqueta de la cuarta imagen:"
      ],
      "metadata": {
        "id": "DxrwykN08YKZ"
      }
    },
    {
      "cell_type": "code",
      "source": [
        "print(y_test[3])"
      ],
      "metadata": {
        "colab": {
          "base_uri": "https://localhost:8080/"
        },
        "id": "GQN5sLEesFuz",
        "outputId": "292735ad-ab7c-4b1a-a2f8-80d274962667"
      },
      "execution_count": 305,
      "outputs": [
        {
          "output_type": "stream",
          "name": "stdout",
          "text": [
            "0\n"
          ]
        }
      ]
    },
    {
      "cell_type": "markdown",
      "source": [
        "Se observa la etiqueta de la quinta imagen:"
      ],
      "metadata": {
        "id": "ZffllDFC8aYT"
      }
    },
    {
      "cell_type": "code",
      "source": [
        "print(y_test[4])"
      ],
      "metadata": {
        "colab": {
          "base_uri": "https://localhost:8080/"
        },
        "id": "Mnywoq4JsFns",
        "outputId": "f9b2f5d5-23fc-454c-904e-b172037ec752"
      },
      "execution_count": 306,
      "outputs": [
        {
          "output_type": "stream",
          "name": "stdout",
          "text": [
            "4\n"
          ]
        }
      ]
    },
    {
      "cell_type": "markdown",
      "source": [
        "Se genera el código para generar una gráfica y observar las predicciones de varias imágenes."
      ],
      "metadata": {
        "id": "0gqAHDQn8c3h"
      }
    },
    {
      "cell_type": "code",
      "source": [
        "def plot_image(i, predictions_array, true_label, img):\n",
        "  true_label, img = true_label[i], img[i]\n",
        "  plt.grid(False)\n",
        "  plt.xticks([])\n",
        "  plt.yticks([])\n",
        "\n",
        "  plt.imshow(img, cmap=plt.cm.binary)\n",
        "\n",
        "  predicted_label = np.argmax(predictions_array)\n",
        "  if predicted_label == true_label:\n",
        "    color = 'blue'\n",
        "  else:\n",
        "    color = 'red'\n",
        "\n",
        "  plt.xlabel(\"{} {:2.0f}% ({})\".format(class_names[predicted_label],\n",
        "                                100*np.max(predictions_array),\n",
        "                                class_names[true_label]),\n",
        "                                color=color)\n",
        "\n",
        "def plot_value_array(i, predictions_array, true_label):\n",
        "  true_label = true_label[i]\n",
        "  plt.grid(False)\n",
        "  plt.xticks(range(10))\n",
        "  plt.yticks([])\n",
        "  thisplot = plt.bar(range(10), predictions_array, color=\"#777777\")\n",
        "  plt.ylim([0, 1])\n",
        "  predicted_label = np.argmax(predictions_array)\n",
        "\n",
        "  thisplot[predicted_label].set_color('red')\n",
        "  thisplot[true_label].set_color('blue')"
      ],
      "metadata": {
        "id": "T24krN6xt4_k"
      },
      "execution_count": 307,
      "outputs": []
    },
    {
      "cell_type": "markdown",
      "source": [
        "Se trazan las primeras 30 imagenes junto con sus predicciones."
      ],
      "metadata": {
        "id": "0W2ym9Ju8xEC"
      }
    },
    {
      "cell_type": "code",
      "source": [
        "# Plot the first X test images, their predicted labels, and the true labels.\n",
        "# Color correct predictions in blue and incorrect predictions in red.\n",
        "num_rows = 10\n",
        "num_cols = 3\n",
        "num_images = num_rows*num_cols\n",
        "plt.figure(figsize=(2*2*num_cols, 2*num_rows))\n",
        "for i in range(num_images):\n",
        "  plt.subplot(num_rows, 2*num_cols, 2*i+1)\n",
        "  plot_image(i, predictions[i], y_test, x_test)\n",
        "  plt.subplot(num_rows, 2*num_cols, 2*i+2)\n",
        "  plot_value_array(i, predictions[i], y_test)\n",
        "plt.tight_layout()\n",
        "plt.show()"
      ],
      "metadata": {
        "colab": {
          "base_uri": "https://localhost:8080/",
          "height": 1000
        },
        "id": "sl1IgNU4wtNt",
        "outputId": "99b7835d-7267-4b12-a717-f59ba096ac60"
      },
      "execution_count": 308,
      "outputs": [
        {
          "output_type": "display_data",
          "data": {
            "text/plain": [
              "<Figure size 1200x2000 with 60 Axes>"
            ],
            "image/png": "[encoded data removed]"
          },
          "metadata": {}
        }
      ]
    }
  ]
}